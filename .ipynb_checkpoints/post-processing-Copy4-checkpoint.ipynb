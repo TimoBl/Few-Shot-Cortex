{
 "cells": [
  {
   "cell_type": "markdown",
   "id": "ac763eab-99da-4f8b-8d74-e9518a8bfb42",
   "metadata": {},
   "source": [
    "# Surface Reconstruction"
   ]
  },
  {
   "cell_type": "markdown",
   "id": "57af41b8-2419-4396-832b-5e85e8cbfdca",
   "metadata": {},
   "source": [
    "This is the code to generate the surface from our segmentation. It involves contructing the white matter surface marching cubes (1), using a laplacian like method from Ants to generate a velocity field (2), and displacing the wm surface up to the pial using the velocity fiel (3), to finally extract our measurements (4)."
   ]
  },
  {
   "cell_type": "code",
   "execution_count": 2,
   "id": "adf792e9-27a4-481c-98db-83c14969b14b",
   "metadata": {
    "tags": []
   },
   "outputs": [],
   "source": [
    "from src.surface import *\n",
    "from src.helper import get_crop, apply_crop, apply_uncrop, crop_nifti\n",
    "from src.direct import *"
   ]
  },
  {
   "cell_type": "code",
   "execution_count": 3,
   "id": "d6536574-90f5-41d7-9342-0cb64d387e48",
   "metadata": {
    "tags": [
     "parameters"
    ]
   },
   "outputs": [],
   "source": [
    "# PARAMETER CELL\n",
    "NAME = \"seal4\"\n",
    "SRC_DIR = \"out_zero/out_Seal4/\""
   ]
  },
  {
   "cell_type": "code",
   "execution_count": 4,
   "id": "c0845ae6-5eff-4e7a-8de7-ab9ceee6f7e5",
   "metadata": {},
   "outputs": [
    {
     "name": "stdout",
     "output_type": "stream",
     "text": [
      "out_zero/out_Seal4//srf/\n"
     ]
    }
   ],
   "source": [
    "out_dir = SRC_DIR + \"/srf/\" # where we save surfaces\n",
    "mkdir(out_dir)\n",
    "print(out_dir)"
   ]
  },
  {
   "cell_type": "code",
   "execution_count": 5,
   "id": "ceac6a4f-4140-4504-b9d8-8c7e1ff1fda2",
   "metadata": {
    "tags": []
   },
   "outputs": [],
   "source": [
    "# load files\n",
    "file = nib.load(os.path.join(SRC_DIR, \"seg.nii.gz\"))\n",
    "seg, affine = file.get_fdata().astype(np.float32), file.affine\n",
    "crop = get_crop((seg > 0))\n",
    "pixdim = file.header[\"pixdim\"][1:4].tolist() # need voxel size for measurements"
   ]
  },
  {
   "cell_type": "code",
   "execution_count": 6,
   "id": "7bbda717-f9fa-4366-be18-28a8f5bc6757",
   "metadata": {
    "tags": []
   },
   "outputs": [],
   "source": [
    "# we crop the volume to reduce the memory consumption of DiReCT. The volumes will stay in the same space\n",
    "seg = crop_nifti(file, crop)\n",
    "wm_prob = crop_nifti(nib.load(os.path.join(SRC_DIR, \"wmprobT.nii.gz\")), crop)\n",
    "gm_prob = crop_nifti(nib.load(os.path.join(SRC_DIR, \"gmprobT.nii.gz\")), crop)\n",
    "aparc = crop_nifti(nib.load(os.path.join(SRC_DIR, \"softmax_seg.nii.gz\")), crop).get_fdata()"
   ]
  },
  {
   "cell_type": "code",
   "execution_count": 7,
   "id": "e9270a9a-c5f6-4a82-ae53-e47200246234",
   "metadata": {
    "tags": []
   },
   "outputs": [
    {
     "data": {
      "text/plain": [
       "(<matplotlib.image.AxesImage at 0x7f4c73ce5290>,\n",
       " (304, 320, 256),\n",
       " (113, 82, 118))"
      ]
     },
     "execution_count": 7,
     "metadata": {},
     "output_type": "execute_result"
    },
    {
     "data": {
      "image/png": "[encoded data removed]",
      "text/plain": [
       "<Figure size 640x480 with 1 Axes>"
      ]
     },
     "metadata": {},
     "output_type": "display_data"
    }
   ],
   "source": [
    "import matplotlib.pyplot as plt\n",
    "\n",
    "plt.imshow(aparc[40]), file.shape, aparc.shape"
   ]
  },
  {
   "cell_type": "markdown",
   "id": "8c9af14a-e7ed-4765-9486-a4dc3bead950",
   "metadata": {},
   "source": [
    "## 1. Contructing the WM"
   ]
  },
  {
   "cell_type": "code",
   "execution_count": 8,
   "id": "7925b5a9-901a-45c8-abe9-92a4bf2459ca",
   "metadata": {
    "tags": []
   },
   "outputs": [],
   "source": [
    "# split hemispheres\n",
    "white_seg_lh = clean_seg((aparc == 2))\n",
    "white_seg_rh = clean_seg((aparc == 41))"
   ]
  },
  {
   "cell_type": "code",
   "execution_count": null,
   "id": "c93652d8-a186-4625-994e-66cc440256d0",
   "metadata": {
    "tags": []
   },
   "outputs": [],
   "source": [
    "# create wm surface\n",
    "white_lh = gen_mesh(white_seg_lh)\n",
    "white_lh = trimesh.smoothing.filter_humphrey(white_lh)\n",
    "\n",
    "white_rh = gen_mesh(white_seg_rh)\n",
    "white_rh = trimesh.smoothing.filter_humphrey(white_rh)"
   ]
  },
  {
   "cell_type": "code",
   "execution_count": null,
   "id": "60c041fe-6497-4b44-b410-add3f866e013",
   "metadata": {
    "tags": []
   },
   "outputs": [],
   "source": [
    "white_rh.show()"
   ]
  },
  {
   "cell_type": "markdown",
   "id": "5c38ae22-02fa-4e2c-bf4d-85ea70d54681",
   "metadata": {},
   "source": [
    "## 2. Create Velocity Field"
   ]
  },
  {
   "cell_type": "code",
   "execution_count": null,
   "id": "3ca9032c-cb75-4750-9934-fc9bee930f35",
   "metadata": {
    "tags": []
   },
   "outputs": [],
   "source": [
    "if not os.path.exists(os.path.join(SRC_DIR, \"ForwardVelocityField.nii.gz\")):\n",
    "    # run DiReCT (KellyKapowski), equivalent to\n",
    "    #     KellyKapowski -d 3 -s ${DST}/seg.nii.gz -g ${DST}/gmprobT.nii.gz -w ${DST}/wmprobT.nii.gz -o ${THICK_VOLUME} -c \"[ 45,0.0,10 ]\" -v\n",
    "    thick = nifti_to_ants(wm_prob)\n",
    "    \n",
    "    kelly_kapowski(s=nifti_to_ants(seg), \n",
    "                   g=nifti_to_ants(gm_prob), \n",
    "                   w=nifti_to_ants(wm_prob), \n",
    "                   c='[ 45,0.0,10 ]', v='1', o=[thick, SRC_DIR+\"/\"]) # we have to add spacing to account for early convergence criteria\n",
    "    \n",
    "    # Check thickness is not still all zeros\n",
    "    if thick.sum() == 0.0:\n",
    "        raise RuntimeError(\"KellyKapowski failed to compute thickness\")\n",
    "\n",
    "    save_img(thick.numpy(), SRC_DIR, 'Thickmap', wm_prob) # by default we don't uncrop thickness maps\n",
    "else:\n",
    "    print(\"Found velocity field, skipping DiReCT!\")"
   ]
  },
  {
   "cell_type": "markdown",
   "id": "001e9968-7a91-46bd-a95b-6382adfc7e35",
   "metadata": {},
   "source": [
    "## 3. Pial Surface Reconstruction"
   ]
  },
  {
   "cell_type": "code",
   "execution_count": null,
   "id": "5d45cba8-3599-4ca5-9cb7-8f78b8c6d1db",
   "metadata": {
    "tags": []
   },
   "outputs": [],
   "source": [
    "# DiReCT deformation Field    \n",
    "import scipy\n",
    "\n",
    "def apply_deformation(points, def_field, step_size=0.1, order=1, pixdim=[1, 1, 1]):\n",
    "    \n",
    "    points = points.copy()\n",
    "    thickness = np.zeros(len(points))\n",
    "    \n",
    "    for i in range(0, 10, 1):\n",
    "        vx = def_field[ :, :, :, i, 0]\n",
    "        vy = def_field[ :, :, :, i, 1]\n",
    "        vz = def_field[ :, :, :, i, 2]\n",
    "\n",
    "        for j in np.arange(0, 1, step_size):\n",
    "            v = np.array([\n",
    "                scipy.ndimage.map_coordinates(vx, points.T, order=order),\n",
    "                scipy.ndimage.map_coordinates(vy, points.T, order=order),\n",
    "                scipy.ndimage.map_coordinates(vz, points.T, order=order)\n",
    "            ]).T\n",
    "\n",
    "            points += (step_size * v)\n",
    "            thickness +=  np.linalg.norm(step_size * v * pixdim, axis=1) # multiply by pixel dimensions\n",
    "\n",
    "        print(\".\", end=\"\", flush=True)\n",
    "        \n",
    "    return points, thickness"
   ]
  },
  {
   "cell_type": "code",
   "execution_count": null,
   "id": "de480ed9-9344-4540-83cb-af653be43e48",
   "metadata": {
    "tags": []
   },
   "outputs": [],
   "source": [
    "velocity_field = nib.load(os.path.join(SRC_DIR, \"ForwardVelocityField.nii.gz\")).get_fdata().astype(np.float32)\n",
    "thickness_map = nib.load(os.path.join(SRC_DIR, \"Thickmap.nii.gz\")).get_fdata().astype(np.float32)"
   ]
  },
  {
   "cell_type": "code",
   "execution_count": null,
   "id": "bccdf3a3-01fd-4486-98a4-1b18b55f4f2e",
   "metadata": {
    "tags": []
   },
   "outputs": [],
   "source": [
    "vertices_lh, lh_thick = apply_deformation(white_lh.vertices.copy(), velocity_field, pixdim=pixdim, order=2) # pixdim has to be chosen\n",
    "pial_lh = trimesh.Trimesh(vertices=vertices_lh, faces=white_lh.faces)\n",
    "pial_lh = trimesh.smoothing.filter_humphrey(pial_lh)"
   ]
  },
  {
   "cell_type": "code",
   "execution_count": null,
   "id": "62ea5bd3-675c-4826-ba48-dbfe25bfed21",
   "metadata": {
    "tags": []
   },
   "outputs": [],
   "source": [
    "vertices_rh, rh_thick = apply_deformation(white_rh.vertices.copy(), velocity_field, pixdim=pixdim, order=2)\n",
    "pial_rh = trimesh.Trimesh(vertices=vertices_rh, faces=white_rh.faces)\n",
    "pial_rh = trimesh.smoothing.filter_humphrey(pial_rh)"
   ]
  },
  {
   "cell_type": "code",
   "execution_count": null,
   "id": "7d13d56e-7f16-4df6-bb55-e603edf69d3f",
   "metadata": {
    "tags": []
   },
   "outputs": [],
   "source": [
    "pial_rh.show()"
   ]
  },
  {
   "cell_type": "markdown",
   "id": "9d20a770-a90c-46bb-a790-37bbac6c687e",
   "metadata": {
    "tags": []
   },
   "source": [
    "We define the exposed surface as the convex hull"
   ]
  },
  {
   "cell_type": "code",
   "execution_count": null,
   "id": "2df9c6c5-a0ec-4f16-9c60-116e5de4efbf",
   "metadata": {
    "tags": []
   },
   "outputs": [],
   "source": [
    "exp_lh = trimesh.convex.convex_hull(pial_lh)\n",
    "exp_rh = trimesh.convex.convex_hull(pial_rh)"
   ]
  },
  {
   "cell_type": "code",
   "execution_count": null,
   "id": "e7f4d2db-f1a0-4b46-966a-b0c2a1326a19",
   "metadata": {
    "tags": []
   },
   "outputs": [],
   "source": [
    "exp_rh.show()"
   ]
  },
  {
   "cell_type": "markdown",
   "id": "0ac36d9f-6b2a-4f48-8ad8-1b7d17dab0b3",
   "metadata": {},
   "source": [
    "Now, we will register the images to the orginal images, as well as extracing measurements"
   ]
  },
  {
   "cell_type": "code",
   "execution_count": null,
   "id": "0a10f023-640e-44f6-bff7-daf8adf6233d",
   "metadata": {},
   "outputs": [],
   "source": [
    "white_lh = register(white_lh, file, out_dir  + '/lh.white', translate=crop[0])\n",
    "white_rh = register(white_rh, file, out_dir  + '/rh.white', translate=crop[0])"
   ]
  },
  {
   "cell_type": "code",
   "execution_count": null,
   "id": "704b0b32-3004-4d6c-99be-1bf17b755706",
   "metadata": {
    "tags": []
   },
   "outputs": [],
   "source": [
    "pial_lh = register(pial_lh, file, out_dir  + '/lh.pial', translate=crop[0])\n",
    "pial_rh = register(pial_rh, file, out_dir  + '/rh.pial', translate=crop[0])"
   ]
  },
  {
   "cell_type": "code",
   "execution_count": null,
   "id": "591e8fba-7e41-4b10-aafc-572125d21661",
   "metadata": {
    "tags": []
   },
   "outputs": [],
   "source": [
    "exp_lh = register(exp_lh, file, out_dir  + '/lh.exp', translate=crop[0])\n",
    "exp_rh = register(exp_rh, file, out_dir  + '/rh.exp', translate=crop[0])"
   ]
  },
  {
   "cell_type": "markdown",
   "id": "ff00bb41-e812-4751-9367-916b1c25751c",
   "metadata": {},
   "source": [
    "## 4. Extract Measurements"
   ]
  },
  {
   "cell_type": "markdown",
   "id": "6193e0bc-73b9-45c6-adcf-ef32bfc4b088",
   "metadata": {},
   "source": [
    "### From Surface"
   ]
  },
  {
   "cell_type": "markdown",
   "id": "99915285-3515-4340-bb7e-3a9a3855bb4d",
   "metadata": {},
   "source": [
    "Here we extract the measurements directly from the surface"
   ]
  },
  {
   "cell_type": "code",
   "execution_count": null,
   "id": "120a9831-e839-4a7e-ab52-4ed17456f9f3",
   "metadata": {
    "tags": []
   },
   "outputs": [],
   "source": [
    "volume_measurements = {\n",
    "    \"lh.white_volume\": white_lh.volume,\n",
    "    \"rh.white_volume\": white_rh.volume,\n",
    "\n",
    "    \"lh.pial_volume\": pial_lh.volume,\n",
    "    \"rh.pial_volume\": pial_rh.volume,\n",
    "\n",
    "    \"lh.gm_volume\": (pial_lh.volume - white_lh.volume),\n",
    "    \"rh.gm_volume\": (pial_rh.volume - white_rh.volume),\n",
    "    \n",
    "    \"lh.exp_volume\": exp_lh.volume,\n",
    "    \"rh.exp_volume\": exp_rh.volume,\n",
    "}"
   ]
  },
  {
   "cell_type": "code",
   "execution_count": null,
   "id": "c8d007bf-35b8-4b03-8dda-df6df63e5db8",
   "metadata": {
    "tags": []
   },
   "outputs": [],
   "source": [
    "surface_measurements = {\n",
    "    \"lh.white_surface\": white_lh.area,\n",
    "    \"rh.white_surface\": white_rh.area,\n",
    "\n",
    "    \"lh.pial_surface\": pial_lh.area,\n",
    "    \"rh.pial_surface\": pial_rh.area,\n",
    "    \n",
    "    \"lh.exp_surface\": exp_lh.area,\n",
    "    \"rh.exp_surface\": exp_rh.area,\n",
    "}"
   ]
  },
  {
   "cell_type": "code",
   "execution_count": null,
   "id": "999fe40f-e50c-4535-b57a-3f59fe45832d",
   "metadata": {
    "tags": []
   },
   "outputs": [],
   "source": [
    "thickness_measurements = {\n",
    "    \"lh.mean_thickness\": (pial_lh.volume - white_lh.volume) / pial_lh.area,\n",
    "    \"rh.mean_thickness\": (pial_rh.volume - white_rh.volume) / pial_rh.area,\n",
    "}"
   ]
  },
  {
   "cell_type": "code",
   "execution_count": null,
   "id": "78f4b3f4-dbeb-4b84-9db1-14bfa315512a",
   "metadata": {
    "tags": []
   },
   "outputs": [],
   "source": [
    "df = pd.DataFrame([{**volume_measurements, **surface_measurements, **thickness_measurements}], index=[NAME])\n",
    "df.to_csv(SRC_DIR + \"/results_surf.csv\")\n",
    "df"
   ]
  },
  {
   "cell_type": "markdown",
   "id": "c09754fb-85e9-4f5d-a186-9a59d62cdb39",
   "metadata": {},
   "source": [
    "### From DiReCT"
   ]
  },
  {
   "cell_type": "code",
   "execution_count": null,
   "id": "9b1f0cf9-a36f-4ae5-9d95-0bfb76d38b5f",
   "metadata": {
    "tags": []
   },
   "outputs": [],
   "source": [
    "v = np.prod(pixdim) # volume of a voxel\n",
    "\n",
    "volume_measurements = {\n",
    "    \"lh.white_volume\": (aparc == 2).sum() * v, # 2, Left-Cerebral-White-Matter\n",
    "    \"rh.white_volume\": (aparc == 41).sum() * v, # 41, Right-Cerebral-White-Matter\n",
    "\n",
    "    \"lh.gm_volume\": (aparc == 3).sum() * v, # 3, Left-Cerebral-Cortex (1000)\n",
    "    \"rh.gm_volume\": (aparc == 42).sum() * v, # 42, Right-Cerebral-Cortex (2000)\n",
    "}\n",
    "volume_measurements"
   ]
  },
  {
   "cell_type": "code",
   "execution_count": null,
   "id": "b874c3fc-0d34-4222-b299-1c79ab020df5",
   "metadata": {
    "tags": []
   },
   "outputs": [],
   "source": [
    "# DiReCT original definition of thicknes \n",
    "#lh_thick = thickness_map[(aparc == 3) & (thickness_map > 0)] \n",
    "#rh_thick = thickness_map[(aparc == 42) & (thickness_map > 0)] "
   ]
  },
  {
   "cell_type": "code",
   "execution_count": null,
   "id": "83716440-6997-4c8f-bdcb-6fb4ecd8bc5b",
   "metadata": {
    "tags": []
   },
   "outputs": [],
   "source": [
    "# make sure to have adjusted for voxel size in our input! \n",
    "thickness_measurements = {\n",
    "    \"lh.mean_thickness\": lh_thick[lh_thick > 0].mean(),\n",
    "    \"rh.mean_thickness\": rh_thick[rh_thick > 0].mean(),\n",
    "\n",
    "    \"lh.sd_thickness\": lh_thick[lh_thick > 0].std(),\n",
    "    \"rh.sd_thickness\": rh_thick[rh_thick > 0].std(),\n",
    "}\n",
    "thickness_measurements"
   ]
  },
  {
   "cell_type": "code",
   "execution_count": null,
   "id": "aad5c0d3-24dc-4ae3-8a85-65f77da61b32",
   "metadata": {},
   "outputs": [],
   "source": [
    "# Save point-wise thickness estimates\n",
    "nib.freesurfer.io.write_morph_data(out_dir + \"/lh_thickness\", lh_thick, fnum=0)\n",
    "nib.freesurfer.io.write_morph_data(out_dir + \"/rh_thickness\", rh_thick, fnum=0)"
   ]
  },
  {
   "cell_type": "code",
   "execution_count": null,
   "id": "3d13ad4a-d28f-4bad-b758-d0f26624123f",
   "metadata": {},
   "outputs": [],
   "source": [
    "# FreeSurfer dfinition of thickness\n",
    "thickness_fs_lh = get_freesurfer_distance(white_lh, pial_lh)\n",
    "thickness_fs_rh = get_freesurfer_distance(white_rh, pial_rh)\n",
    "\n",
    "thickness_measurements_fs = {\n",
    "    \"lh.mean_thickness_fs\": thickness_fs_lh[thickness_fs_lh > 0].mean(),\n",
    "    \"rh.mean_thickness_fs\": thickness_fs_rh[thickness_fs_rh > 0].mean(),\n",
    "    \n",
    "    \"lh.sd_thickness_fs\": thickness_fs_lh[thickness_fs_lh > 0].std(),\n",
    "    \"rh.sd_thickness_fs\": thickness_fs_rh[thickness_fs_rh > 0].std(),\n",
    "}\n",
    "thickness_measurements_fs"
   ]
  },
  {
   "cell_type": "code",
   "execution_count": null,
   "id": "7bc8a543-5a48-437c-b8fb-bdd6f29ddcd1",
   "metadata": {},
   "outputs": [],
   "source": [
    "# Save point-wise thickness estimates\n",
    "nib.freesurfer.io.write_morph_data(out_dir + \"/lh_thickness_fs\", lh_thick, fnum=0)\n",
    "nib.freesurfer.io.write_morph_data(out_dir + \"/rh_thickness_fs\", rh_thick, fnum=0)"
   ]
  },
  {
   "cell_type": "code",
   "execution_count": null,
   "id": "21369d81-4174-4349-a240-d6796fb82f63",
   "metadata": {
    "tags": []
   },
   "outputs": [],
   "source": [
    "df = pd.DataFrame([{**volume_measurements, **thickness_measurements, **thickness_measurements_fs}], index=[NAME])\n",
    "df.to_csv(SRC_DIR + \"/results_direct.csv\")\n",
    "df"
   ]
  },
  {
   "cell_type": "code",
   "execution_count": null,
   "id": "49045013-2398-4f29-891f-7e197b21e90a",
   "metadata": {},
   "outputs": [],
   "source": []
  }
 ],
 "metadata": {
  "kernelspec": {
   "display_name": "DeepScan",
   "language": "python",
   "name": "deepscan"
  },
  "language_info": {
   "codemirror_mode": {
    "name": "ipython",
    "version": 3
   },
   "file_extension": ".py",
   "mimetype": "text/x-python",
   "name": "python",
   "nbconvert_exporter": "python",
   "pygments_lexer": "ipython3",
   "version": "3.11.5"
  }
 },
 "nbformat": 4,
 "nbformat_minor": 5
}
